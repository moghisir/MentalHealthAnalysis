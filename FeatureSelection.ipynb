{
 "cells": [
  {
   "cell_type": "code",
   "execution_count": 9,
   "metadata": {
    "id": "J6oNLcoyI5F5"
   },
   "outputs": [],
   "source": [
    "\n",
    "\n",
    "\n",
    "# Imports\n",
    "import pandas as pd\n",
    "from sklearn import preprocessing\n",
    "import numpy as np\n",
    "import matplotlib.pyplot as plt\n",
    "from sklearn.preprocessing import MinMaxScaler\n",
    "from sklearn.feature_selection import SelectKBest,chi2,RFE\n",
    "from xgboost import XGBClassifier\n",
    "from sklearn.model_selection import train_test_split\n",
    "from sklearn.metrics import accuracy_score\n",
    "from sklearn.feature_selection import RFE\n",
    "from sklearn.linear_model import LogisticRegression\n",
    "from sklearn.feature_selection import SelectFromModel\n",
    "from sklearn.linear_model import LogisticRegression\n",
    "from sklearn.naive_bayes import GaussianNB\n",
    "from sklearn.feature_selection import SelectFromModel\n",
    "from sklearn.metrics import accuracy_score, f1_score, precision_score, recall_score\n",
    "from sklearn.ensemble import RandomForestClassifier\n",
    "\n",
    "from sklearn.ensemble._bagging import BaggingClassifier\n",
    "from sklearn.ensemble._forest import ExtraTreesClassifier\n",
    "\n",
    "from sklearn.tree import DecisionTreeClassifier \n",
    "from sklearn.ensemble._bagging import BaggingClassifier\n",
    "from sklearn.metrics import confusion_matrix, fbeta_score\n",
    "\n",
    "from fairlearn.metrics import MetricFrame\n",
    "from fairlearn.metrics import selection_rate, count\n",
    "from fairlearn.postprocessing import ThresholdOptimizer\n",
    "from fairlearn.reductions import ExponentiatedGradient, ClassificationMoment, Moment, DemographicParity, GridSearch\n",
    "from fairlearn.metrics import equalized_odds_difference, equalized_odds_ratio, false_negative_rate_difference, false_positive_rate_difference, true_positive_rate_difference, true_negative_rate_difference, demographic_parity_ratio, demographic_parity_difference\n",
    "\n",
    "# Suppress warnings\n",
    "def warn(*args, **kwargs):\n",
    "    pass\n",
    "import warnings\n",
    "warnings.warn = warn"
   ]
  },
  {
   "cell_type": "code",
   "execution_count": 10,
   "metadata": {
    "id": "bLCmGGwtLotI"
   },
   "outputs": [],
   "source": [
    "# Setting parameters\n",
    "\n",
    "alpha = 0.1 # Statistical significance for chi2 test. \n",
    "k = 3 # Minimum number of feature selection method selecting a given feature. \n",
    "\n",
    "models_to_train = [\n",
    "     LogisticRegression, \n",
    "    RandomForestClassifier, \n",
    "     DecisionTreeClassifier, \n",
    "     #XGBClassifier, \n",
    "    BaggingClassifier\n",
    "]\n",
    "\n",
    "\n",
    "unfairness_metrics = [\n",
    "    selection_rate, \n",
    "    fbeta_score, \n",
    "    equalized_odds_difference, \n",
    "    equalized_odds_ratio\n",
    "]\n",
    "model_evaulation = [\n",
    "    accuracy_score, \n",
    "    recall_score, \n",
    "    precision_score, \n",
    "    f1_score \n",
    "]\n",
    "\n",
    "demographic_features = [\n",
    "    'RACE', \n",
    "    'FEMALE', \n",
    "    'PAY1_X'\n",
    "    'ZIPINC_QRTL', \n",
    "    'AGE'\n",
    "]\n",
    "\n",
    "# Choose the appropriate variable for selected features depending on the dataset being used. \n",
    "# Keep all categorical features numeric. \n",
    "\n",
    "output_path ='data.csv'\n"
   ]
  },
  {
   "cell_type": "markdown",
   "metadata": {},
   "source": [
    "# Feature Selection"
   ]
  },
  {
   "cell_type": "code",
   "execution_count": 17,
   "metadata": {},
   "outputs": [],
   "source": [
    "from pandas.core.groupby.generic import DataFrame\n",
    "from pandas.io.formats.format import DataFrameRenderer\n",
    "from sklearn.model_selection import train_test_split\n",
    "\n",
    "\n",
    "def clean_and_preprocess(df, columns_to_select, select_all=False):\n",
    "\n",
    "    X=df[all_features_arizona]\n",
    "    y=df['LOS_category']\n",
    "    \n",
    "    X_train, X_test, y_train, y_test = train_test_split(X, y, test_size=0.3, random_state=42)\n",
    "\n",
    "    return X_train, X_test, y_train, y_test, X, y, df\n"
   ]
  },
  {
   "cell_type": "code",
   "execution_count": 18,
   "metadata": {
    "id": "SriMkxt4_kHc"
   },
   "outputs": [],
   "source": [
    "X_train, X_test, y_train, y_test, X, y, df = clean_and_preprocess(df, all_features_arizona)"
   ]
  },
  {
   "cell_type": "markdown",
   "metadata": {},
   "source": [
    "# Chi sq"
   ]
  },
  {
   "cell_type": "code",
   "execution_count": 1,
   "metadata": {},
   "outputs": [],
   "source": [
    "from sklearn.feature_selection import SelectKBest, chi2\n",
    "import pandas as pd\n",
    "\n",
    "# Select the top 46 features based on the chi-squared test\n",
    "chi_selector = SelectKBest(chi2, k=91)\n",
    "chi_selector.fit(X_train, y_train)\n",
    "\n",
    "X_train_selected = chi_selector.transform(X_train)\n",
    "X_test_selected = chi_selector.transform(X_test)\n",
    "\n",
    "# Get the important scores for each variable\n",
    "chi_scores = chi_selector.scores_\n",
    "\n",
    "# Create a data frame that contains the variable names and their corresponding important scores\n",
    "df_chi_scores = pd.DataFrame({'Variable': X.columns, 'Score': chi_scores})\n",
    "\n",
    "# Calculate the mean, median, standard deviation, minimum, and maximum important score for each variable\n",
    "mean_score_chi = df_chi_scores['Score'].mean()\n",
    "median_score_chi = df_chi_scores['Score'].median()\n",
    "std_score_chi = df_chi_scores['Score'].std()\n",
    "min_score_chi = df_chi_scores['Score'].min()\n",
    "max_score_chi = df_chi_scores['Score'].max()\n",
    "\n",
    "# Print the statistics for important scores\n",
    "print(f\"Mean important score: {mean_score_chi}\")\n",
    "print(f\"Median important score: {median_score_chi}\")\n",
    "print(f\"Standard deviation of important score: {std_score_chi}\")\n",
    "print(f\"Minimum important score: {min_score_chi}\")\n",
    "print(f\"Maximum important score: {max_score_chi}\")\n",
    "\n",
    "# Rank the variables based on their mean important score in descending order\n",
    "df_rankings = df_chi_scores.sort_values(by='Score', ascending=False)\n",
    "print(df_rankings)\n",
    "\n"
   ]
  },
  {
   "cell_type": "code",
   "execution_count": 20,
   "metadata": {
    "scrolled": false
   },
   "outputs": [
    {
     "data": {
      "image/png": "[encoded data removed]",
      "text/plain": [
       "<Figure size 640x480 with 1 Axes>"
      ]
     },
     "metadata": {},
     "output_type": "display_data"
    }
   ],
   "source": [
    "import pandas as pd\n",
    "from sklearn.feature_selection import SelectKBest, chi2\n",
    "import matplotlib.pyplot as plt\n",
    "\n",
    "# Define the number of top features to select\n",
    "num_top_features = 91\n",
    "\n",
    "# Define the feature selection methods to use\n",
    "feature_selectors = [('chi-squared', SelectKBest(chi2, k=num_top_features))]\n",
    "\n",
    "# Create a dictionary to hold the scores for each feature selection method\n",
    "scores_dict = {}\n",
    "\n",
    "# Loop through each feature selection method and calculate the scores\n",
    "for selector_name, selector in feature_selectors:\n",
    "    selector.fit(X_train, y_train)\n",
    "    scores = selector.scores_\n",
    "    scores_dict[selector_name] = scores\n",
    "\n",
    "# Create a data frame that contains the variable names and their corresponding scores for each feature selection method\n",
    "df_scores = pd.DataFrame(X.columns, columns=['Variable'])\n",
    "for selector_name in scores_dict:\n",
    "    df_scores[selector_name] = scores_dict[selector_name]\n",
    "\n",
    "# Get the quartile points\n",
    "quartiles = df_scores['chi-squared'].quantile([0, 0.25, 0.5, 0.75, 1]).values\n",
    "\n",
    "# Plot histograms of important scores for each feature selection method\n",
    "for selector_name in scores_dict:\n",
    "    fig, ax = plt.subplots()\n",
    "    ax.hist(df_scores[selector_name], bins=20)\n",
    "    ax.set_title(selector_name)\n",
    "    ax.set_xlabel('Important score')\n",
    "    ax.set_ylabel('Number of variables')\n",
    "    ax.axvline(df_scores[selector_name].mean(), color='red', linestyle='dashed', linewidth=2)\n",
    "    ax.axvline(df_scores[selector_name].median(), color='green', linestyle='dashed', linewidth=2)\n",
    "    ax.axvline(quartiles[1], color='blue', linestyle='dashed', linewidth=2)\n",
    "    ax.axvline(quartiles[2], color='blue', linestyle='dashed', linewidth=2)\n",
    "    ax.axvline(quartiles[3], color='blue', linestyle='dashed', linewidth=2)\n",
    "    ax.text(df_scores[selector_name].mean() + df_scores[selector_name].std(), ax.get_ylim()[1]*0.8,\n",
    "             f\"Mean: {df_scores[selector_name].mean():.2f}\\nMedian: {df_scores[selector_name].median():.2f}\\nStd: {df_scores[selector_name].std():.2f}\")\n",
    "    plt.show()\n"
   ]
  },
  {
   "cell_type": "code",
   "execution_count": 53,
   "metadata": {},
   "outputs": [],
   "source": [
    "# Get the features above mean\n",
    "above_mean = df_scores[df_scores['chi-squared'] > df_scores['chi-squared'].mean()]\n",
    "\n",
    "# Get the features below mean\n",
    "below_mean = df_scores[df_scores['chi-squared'] <= df_scores['chi-squared'].mean()]\n"
   ]
  },
  {
   "cell_type": "code",
   "execution_count": 55,
   "metadata": {},
   "outputs": [
    {
     "name": "stdout",
     "output_type": "stream",
     "text": [
      "Percentage of features above mean: 7.07%\n"
     ]
    }
   ],
   "source": [
    "# Get the percentage of features above mean\n",
    "perc_above_mean = len(above_mean) / len(df_scores) * 100\n",
    "print(f\"Percentage of features above mean: {perc_above_mean:.2f}%\")\n"
   ]
  },
  {
   "cell_type": "code",
   "execution_count": 57,
   "metadata": {},
   "outputs": [
    {
     "name": "stdout",
     "output_type": "stream",
     "text": [
      "Quartiles: [4.63469345e-03 2.08914720e+01 2.15267866e+02 1.43767419e+03\n",
      " 4.20587186e+05]\n",
      "25 features (25.25%) lie within 1Q\n",
      "24 features (24.24%) lie within 2Q\n",
      "25 features (25.25%) lie within 3Q\n",
      "25 features (25.25%) lie within 4Q\n"
     ]
    }
   ],
   "source": [
    "# Get the quartiles\n",
    "quartiles = df_scores['chi-squared'].quantile([0, 0.25, 0.5, 0.75, 1]).values\n",
    "print(\"Quartiles:\", quartiles)\n",
    "\n",
    "# Find the number of features in each quartile\n",
    "q1_count = len(df_scores[(df_scores['chi-squared'] >= quartiles[0]) & (df_scores['chi-squared'] < quartiles[1])])\n",
    "q2_count = len(df_scores[(df_scores['chi-squared'] >= quartiles[1]) & (df_scores['chi-squared'] < quartiles[2])])\n",
    "q3_count = len(df_scores[(df_scores['chi-squared'] >= quartiles[2]) & (df_scores['chi-squared'] < quartiles[3])])\n",
    "q4_count = len(df_scores[(df_scores['chi-squared'] >= quartiles[3]) & (df_scores['chi-squared'] <= quartiles[4])])\n",
    "\n",
    "# Calculate the percentage of features in each quartile\n",
    "total_features = len(df_scores)\n",
    "q1_percent = q1_count / total_features * 100\n",
    "q2_percent = q2_count / total_features * 100\n",
    "q3_percent = q3_count / total_features * 100\n",
    "q4_percent = q4_count / total_features * 100\n",
    "\n",
    "# Print the number and percentage of features in each quartile\n",
    "print(f\"{q1_count} features ({q1_percent:.2f}%) lie within 1Q\")\n",
    "print(f\"{q2_count} features ({q2_percent:.2f}%) lie within 2Q\")\n",
    "print(f\"{q3_count} features ({q3_percent:.2f}%) lie within 3Q\")\n",
    "print(f\"{q4_count} features ({q4_percent:.2f}%) lie within 4Q\")\n"
   ]
  },
  {
   "cell_type": "code",
   "execution_count": 24,
   "metadata": {
    "scrolled": true
   },
   "outputs": [],
   "source": [
    "above_median_chi=df_rankings[df_rankings[\"Score\"]>=df_rankings[\"Score\"].median()].sort_values(by='Score', ascending=False)"
   ]
  },
  {
   "cell_type": "code",
   "execution_count": 1,
   "metadata": {},
   "outputs": [],
   "source": [
    "above_mean_chi=df_rankings[df_rankings[\"Score\"]>=df_rankings[\"Score\"].mean()].sort_values(by='Score', ascending=False)\n"
   ]
  },
  {
   "cell_type": "code",
   "execution_count": 25,
   "metadata": {},
   "outputs": [],
   "source": [
    "df_rankings = df_rankings.rename(columns={'Score': 'Score_chi2'})\n"
   ]
  },
  {
   "cell_type": "markdown",
   "metadata": {},
   "source": [
    "### RFE"
   ]
  },
  {
   "cell_type": "code",
   "execution_count": 2,
   "metadata": {},
   "outputs": [],
   "source": [
    "import pandas as pd\n",
    "import numpy as np\n",
    "from sklearn.feature_selection import RFE\n",
    "from sklearn.linear_model import LogisticRegression\n",
    "\n",
    "# Create a Logistic Regression model\n",
    "model = LogisticRegression()\n",
    "\n",
    "# Use RFE to select the best features\n",
    "rfe = RFE(model)#, #n_features_to_select= 90)\n",
    "rfe = rfe.fit(X, y)\n",
    "\n",
    "# Print the selected features\n",
    "print(\"Selected Features:\", X.columns[rfe.support_])\n",
    "\n",
    "# Get important scores for each variable using RFE\n",
    "rfe_scores = rfe.ranking_\n",
    "\n",
    "# Create a data frame that contains the variable names and their corresponding important scores for RFE\n",
    "df_rfe_scores = pd.DataFrame({'Variable': X.columns, 'Score': rfe_scores})\n",
    "\n",
    "# Calculate the mean, median, standard deviation, minimum, and maximum important score for each variable for RFE\n",
    "mean_score_rfe = df_rfe_scores['Score'].mean()\n",
    "median_score_rfe = df_rfe_scores['Score'].median()\n",
    "std_score_rfe = df_rfe_scores['Score'].std()\n",
    "min_score_rfe = df_rfe_scores['Score'].min()\n",
    "max_score_rfe = df_rfe_scores['Score'].max()\n",
    "\n",
    "# Print the statistics for important scores for RFE\n",
    "print(f\"Mean important score: {mean_score_rfe}\")\n",
    "print(f\"Median important score: {median_score_rfe}\")\n",
    "print(f\"Standard deviation of important score: {std_score_rfe}\")\n",
    "print(f\"Minimum important score: {min_score_rfe}\")\n",
    "print(f\"Maximum important score: {max_score_rfe}\")\n",
    "\n",
    "# Rank the variables based on their mean important score in descending order for RFE\n",
    "df_rankings3 = df_rfe_scores.sort_values(by='Score', ascending=False)\n",
    "\n"
   ]
  },
  {
   "cell_type": "code",
   "execution_count": 72,
   "metadata": {
    "scrolled": false
   },
   "outputs": [
    {
     "data": {
      "image/png": "[encoded data removed]",
      "text/plain": [
       "<Figure size 640x480 with 1 Axes>"
      ]
     },
     "metadata": {},
     "output_type": "display_data"
    }
   ],
   "source": [
    "# Plot histogram of important scores for RFE\n",
    "def plot_hist(df_scores, title):\n",
    "    fig, ax = plt.subplots()\n",
    "    ax.hist(df_scores['Score'], bins=20)\n",
    "    ax.axvline(df_scores['Score'].mean(), color='k', linestyle='dashed', linewidth=1)\n",
    "    ax.axvline(df_scores['Score'].median(), color='r', linestyle='dashed', linewidth=1)\n",
    "    ax.axvline(df_scores['Score'].mean() - df_scores['Score'].std(), color='k', linestyle='dotted', linewidth=1)\n",
    "    ax.axvline(df_scores['Score'].mean() + df_scores['Score'].std(), color='k', linestyle='dotted', linewidth=1)\n",
    "    ax.set_xlabel('Important Scores')\n",
    "    ax.set_ylabel('Frequency')\n",
    "    ax.set_title(title)\n",
    "    ax.legend(['Mean', 'Median', 'Mean +/- Std'])\n",
    "    \n",
    "    # Calculate the quartiles\n",
    "    quartiles = df_scores['Score'].quantile([0, 0.25, 0.5, 0.75, 1]).values\n",
    "    ax.axvline(quartiles[0], color='b', linestyle='dashed', linewidth=1)\n",
    "    ax.axvline(quartiles[1], color='g', linestyle='dashed', linewidth=1)\n",
    "    ax.axvline(quartiles[2], color='y', linestyle='dashed', linewidth=1)\n",
    "    ax.axvline(quartiles[3], color='m', linestyle='dashed', linewidth=1)\n",
    "\n",
    "# Call the plot_hist function for RFE feature selection method\n",
    "plot_hist(df_rfe_scores, 'RFE Feature Selection')\n",
    "\n"
   ]
  },
  {
   "cell_type": "code",
   "execution_count": 2,
   "metadata": {
    "scrolled": true
   },
   "outputs": [],
   "source": [
    "# Calculate above and below mean features\n",
    "above_mean = df_rfe_scores[df_rfe_scores['Score'] > mean_score_rfe]['Variable'].tolist()\n",
    "below_mean = df_rfe_scores[df_rfe_scores['Score'] < mean_score_rfe]['Variable'].tolist()\n",
    "num_above_mean = len(above_mean)\n",
    "num_below_mean = len(below_mean)\n",
    "total_num_features = len(df_rfe_scores)\n",
    "perc_above_mean = (num_above_mean / total_num_features) * 100\n",
    "perc_below_mean = (num_below_mean / total_num_features) * 100\n",
    "\n",
    "# Print the results\n",
    "print(f\"Number of features above mean: {num_above_mean} ({perc_above_mean:.2f}%)\")\n",
    "print(f\"Number of features below mean: {num_below_mean} ({perc_below_mean:.2f}%)\")\n",
    "\n",
    "# Print the list of features above mean and below mean\n",
    "print(\"Features above mean:\", above_mean)\n",
    "print(\"Features below mean:\", below_mean)\n"
   ]
  },
  {
   "cell_type": "code",
   "execution_count": 3,
   "metadata": {},
   "outputs": [],
   "source": [
    "# Find the number of features in each quartile\n",
    "num_quartiles = 4\n",
    "quartiles = np.linspace(0, 1, num_quartiles+1)\n",
    "quartile_counts = np.zeros(num_quartiles, dtype=int)\n",
    "for i in range(num_quartiles):\n",
    "    q_lower = df_rfe_scores['Score'].quantile(quartiles[i])\n",
    "    q_upper = df_rfe_scores['Score'].quantile(quartiles[i+1])\n",
    "    quartile_counts[i] = len(df_rfe_scores[(df_rfe_scores['Score'] >= q_lower) & (df_rfe_scores['Score'] <= q_upper)])\n",
    "\n",
    "# Calculate the total number of features and percentages in each quartile\n",
    "total_num_features = len(df_rfe_scores)\n",
    "perc_quartiles = 100 * quartile_counts / total_num_features\n",
    "\n",
    "# Print the number of features in each quartile and the percentage of features in each quartile\n",
    "for i in range(num_quartiles):\n",
    "    print(f\"Number of features in quartile {i+1}: {quartile_counts[i]} ({perc_quartiles[i]:.2f}%)\")\n",
    "\n",
    "# Print the features in each quartile\n",
    "for i in range(num_quartiles):\n",
    "    q_lower = df_rfe_scores['Score'].quantile(quartiles[i])\n",
    "    q_upper = df_rfe_scores['Score'].quantile(quartiles[i+1])\n",
    "    features = df_rfe_scores[(df_rfe_scores['Score'] >= q_lower) & (df_rfe_scores['Score'] <= q_upper)]['Variable'].values\n",
    "    print(f\"Features in quartile {i+1}: {features}\")\n"
   ]
  },
  {
   "cell_type": "code",
   "execution_count": 4,
   "metadata": {},
   "outputs": [],
   "source": [
    "df_rankings3.sort_values(by='Score', ascending=False)"
   ]
  },
  {
   "cell_type": "code",
   "execution_count": 5,
   "metadata": {},
   "outputs": [],
   "source": [
    "df_rankings3[\"Score\"].rank(ascending=False)"
   ]
  },
  {
   "cell_type": "code",
   "execution_count": 30,
   "metadata": {},
   "outputs": [],
   "source": [
    "above_median_rfe=df_rankings3[df_rankings3[\"Score\"]>=df_rankings3[\"Score\"].median()].sort_values(by='Score', ascending=False)"
   ]
  },
  {
   "cell_type": "code",
   "execution_count": 79,
   "metadata": {},
   "outputs": [],
   "source": [
    "above_mean_rfe= df_rankings3[df_rankings3[\"Score\"]>=df_rankings3[\"Score\"].mean()].sort_values(by='Score', ascending=False)"
   ]
  },
  {
   "cell_type": "code",
   "execution_count": 31,
   "metadata": {},
   "outputs": [],
   "source": [
    "df_rankings3 = df_rankings3.rename(columns={'Score': 'Score_rfe'})\n"
   ]
  },
  {
   "cell_type": "markdown",
   "metadata": {},
   "source": [
    "## Lasso"
   ]
  },
  {
   "cell_type": "code",
   "execution_count": 6,
   "metadata": {
    "scrolled": true
   },
   "outputs": [],
   "source": [
    "import numpy as np\n",
    "import pandas as pd\n",
    "from sklearn.feature_selection import SelectFromModel\n",
    "from sklearn.linear_model import LogisticRegression\n",
    "\n",
    "# Logistic Regression with L1 regularization\n",
    "embeded_lr_selector = SelectFromModel(LogisticRegression(penalty=\"l1\", solver=\"liblinear\"), max_features=91)\n",
    "embeded_lr_selector.fit(X, y)\n",
    "\n",
    "# Get the selected features\n",
    "embeded_lr_support = embeded_lr_selector.get_support()\n",
    "\n",
    "# Get the feature names corresponding to the selected features\n",
    "embeded_lr_feature = X.columns[embeded_lr_support].tolist()\n",
    "\n",
    "# Get the coefficients of the selected features\n",
    "embeded_lr_coef = embeded_lr_selector.estimator_.coef_[0][embeded_lr_support]\n",
    "\n",
    "# Create a dataframe that contains the variable names and their corresponding coefficients\n",
    "df_embeded_lr_scores = pd.DataFrame({'Variable': embeded_lr_feature, 'Score': embeded_lr_coef})\n",
    "\n",
    "# Calculate the mean, median, standard deviation, minimum, and maximum of the importance scores\n",
    "mean_score_l1 = df_embeded_lr_scores['Score'].mean()\n",
    "median_score_l1 = df_embeded_lr_scores['Score'].median()\n",
    "std_score_l1 = df_embeded_lr_scores['Score'].std()\n",
    "min_score_l1 = df_embeded_lr_scores['Score'].min()\n",
    "max_score_l1 = df_embeded_lr_scores['Score'].max()\n",
    "\n",
    "print(\"Mean importance score:\", mean_score_l1)\n",
    "print(\"Median importance score:\", median_score_l1)\n",
    "print(\"Standard deviation of importance scores:\", std_score_l1)\n",
    "print(\"Minimum importance score:\", min_score_l1)\n",
    "print(\"Maximum importance score:\", max_score_l1)\n",
    "\n",
    "\n",
    "# Rank the variables based on their mean important score in descending order\n",
    "df_rankings4= df_embeded_lr_scores.sort_values(by='Score', ascending=False)\n",
    "print(df_rankings4)\n",
    "\n",
    "\n",
    "\n"
   ]
  },
  {
   "cell_type": "code",
   "execution_count": 83,
   "metadata": {},
   "outputs": [
    {
     "data": {
      "image/png": "[encoded data removed]",
      "text/plain": [
       "<Figure size 640x480 with 1 Axes>"
      ]
     },
     "metadata": {},
     "output_type": "display_data"
    }
   ],
   "source": [
    "import matplotlib.pyplot as plt\n",
    "\n",
    "# Plot histogram of important scores for L1 regularization\n",
    "plt.hist(df_embeded_lr_scores['Score'])\n",
    "plt.xlabel('Importance Score')\n",
    "plt.ylabel('Frequency')\n",
    "plt.title('Histogram of Important Scores for L1 Regularization')\n",
    "\n",
    "# Display mean, median, and standard deviation details\n",
    "plt.axvline(mean_score_l1, color='red', linestyle='dashed', linewidth=1)\n",
    "plt.axvline(median_score_l1, color='green', linestyle='dashed', linewidth=1)\n",
    "plt.axvline(mean_score_l1 + std_score_l1, color='orange', linestyle='dashed', linewidth=1)\n",
    "plt.axvline(mean_score_l1 - std_score_l1, color='orange', linestyle='dashed', linewidth=1)\n",
    "plt.legend({'Mean':mean_score_l1,'Median':median_score_l1,'Std Dev':std_score_l1})\n",
    "\n",
    "#Calculate and plot quartiles\n",
    "quartiles = np.quantile(df_embeded_lr_scores['Score'], [0, 0.25, 0.5, 0.75, 1])\n",
    "plt.axvline(quartiles[1], color='blue', linestyle='dashed', linewidth=1)\n",
    "plt.axvline(quartiles[2], color='blue', linestyle='dashed', linewidth=1)\n",
    "plt.axvline(quartiles[3], color='blue', linestyle='dashed', linewidth=1)\n",
    "\n",
    "plt.show()\n"
   ]
  },
  {
   "cell_type": "code",
   "execution_count": 7,
   "metadata": {
    "scrolled": true
   },
   "outputs": [],
   "source": [
    "# Calculate counts and percentages of variables above and below mean score\n",
    "above_mean = df_embeded_lr_scores[df_embeded_lr_scores['Score'] > mean_score_l1]\n",
    "below_mean = df_embeded_lr_scores[df_embeded_lr_scores['Score'] <= mean_score_l1]\n",
    "\n",
    "above_mean_count = len(above_mean)\n",
    "below_mean_count = len(below_mean)\n",
    "\n",
    "total_count = len(df_embeded_lr_scores)\n",
    "\n",
    "above_mean_perc = above_mean_count / total_count * 100\n",
    "below_mean_perc = below_mean_count / total_count * 100\n",
    "\n",
    "# Print counts and percentages\n",
    "print(f'Variables above mean score: {above_mean_count} ({above_mean_perc:.2f}%)')\n",
    "print(f'Variables below mean score: {below_mean_count} ({below_mean_perc:.2f}%)')\n",
    "\n",
    "# Print the features\n",
    "print('\\nVariables above mean score:')\n",
    "print(above_mean['Variable'])\n",
    "print('\\nVariables below mean score:')\n",
    "print(below_mean['Variable'])\n"
   ]
  },
  {
   "cell_type": "code",
   "execution_count": 8,
   "metadata": {
    "scrolled": true
   },
   "outputs": [],
   "source": [
    "# Calculate and print counts and percentages of variables in each quartile\n",
    "for i, quartile in enumerate(quartiles):\n",
    "    if i == 0:\n",
    "        continue\n",
    "    variables = df_embeded_lr_scores[df_embeded_lr_scores['Score'] >= quartiles[i-1]]\n",
    "    variables = variables[variables['Score'] <= quartile]\n",
    "    count = len(variables)\n",
    "    percent = count / len(df_embeded_lr_scores) * 100\n",
    "    print(f\"Quartile {i}: {count} ({percent:.2f}%) Variables\")\n",
    "\n",
    "    # Print names of variables in current quartile\n",
    "    print(\"\\tVariable Names:\")\n",
    "    for var in variables['Variable']:\n",
    "        print(f\"\\t{var}\")\n"
   ]
  },
  {
   "cell_type": "code",
   "execution_count": 9,
   "metadata": {
    "scrolled": true
   },
   "outputs": [],
   "source": [
    "df_rankings4.sort_values(by='Score', ascending=False)"
   ]
  },
  {
   "cell_type": "code",
   "execution_count": 35,
   "metadata": {
    "scrolled": true
   },
   "outputs": [],
   "source": [
    "above_median_lasso=df_rankings4[df_rankings4[\"Score\"]>=df_rankings4[\"Score\"].median()].sort_values(by='Score', ascending=False)"
   ]
  },
  {
   "cell_type": "code",
   "execution_count": 10,
   "metadata": {
    "scrolled": true
   },
   "outputs": [],
   "source": [
    "above_mean_lasso=df_rankings4[df_rankings4[\"Score\"]>=df_rankings4[\"Score\"].mean()].sort_values(by='Score', ascending=False)\n"
   ]
  },
  {
   "cell_type": "code",
   "execution_count": 36,
   "metadata": {},
   "outputs": [],
   "source": [
    "df_rankings4 = df_rankings4.rename(columns={'Score': 'Score_lasso'})\n"
   ]
  },
  {
   "cell_type": "markdown",
   "metadata": {},
   "source": [
    "### Random Forest"
   ]
  },
  {
   "cell_type": "code",
   "execution_count": 11,
   "metadata": {},
   "outputs": [],
   "source": [
    "from sklearn.ensemble import RandomForestClassifier\n",
    "from sklearn.feature_selection import RFE\n",
    "from sklearn.metrics import accuracy_score\n",
    "import numpy as np\n",
    "import pandas as pd\n",
    "\n",
    "# Train a Random Forest classifier\n",
    "clf = RandomForestClassifier(n_estimators=100, random_state=42)\n",
    "clf.fit(X, y)\n",
    "\n",
    "# Compute feature importances\n",
    "importances = clf.feature_importances_\n",
    "feature_names = X.columns\n",
    "\n",
    "# Create a DataFrame with feature names and importances\n",
    "rfe_importances = pd.DataFrame({'Variable': feature_names, 'Score': importances})\n",
    "\n",
    "# Use RFE to select the top 46 features\n",
    "rfe_selector = RFE(estimator=clf, n_features_to_select=91, step=10, verbose=5)\n",
    "rfe_selector.fit(X, y)\n",
    "\n",
    "# Get the accuracy of the classifier on the test set\n",
    "accuracy_s = accuracy_score(rfe_selector.predict(X_test), y_test)\n",
    "\n",
    "# Get the names of the selected features\n",
    "rfe_support = rfe_selector.get_support()\n",
    "mean_score_rf = np.mean(rfe_importances['Score'])\n",
    "median_score_rf = np.median(rfe_importances['Score'])\n",
    "std_score_rf = np.std(rfe_importances['Score'])\n",
    "min_score_rf = np.min(rfe_importances['Score'])\n",
    "max_score_rf = np.max(rfe_importances['Score'])\n",
    "\n",
    "# Rank the variables based on their mean important score in descending order\n",
    "df_rankings5 = rfe_importances.sort_values(by='Score', ascending=False)\n",
    "\n",
    "# Print the results\n",
    "print(\"Accuracy:\", accuracy_s)\n",
    "print(\"Selected features:\", feature_names[rfe_support])\n",
    "print(\"Mean importance score:\", mean_score_rf)\n",
    "print(\"Median importance score:\", median_score_rf)\n",
    "print(\"Standard deviation of importance scores:\", std_score_rf)\n",
    "print(\"Minimum importance score:\", min_score_rf)\n",
    "print(\"Maximum importance score:\", max_score_rf)\n",
    "print(\"Rankings of selected features:\")\n",
    "print(df_rankings5)\n"
   ]
  },
  {
   "cell_type": "code",
   "execution_count": 93,
   "metadata": {},
   "outputs": [
    {
     "data": {
      "image/png": "[encoded data removed]",
      "text/plain": [
       "<Figure size 640x480 with 1 Axes>"
      ]
     },
     "metadata": {},
     "output_type": "display_data"
    }
   ],
   "source": [
    "import numpy as np\n",
    "import matplotlib.pyplot as plt\n",
    "\n",
    "# Plot a histogram of RFE feature importances\n",
    "plt.hist(rfe_importances['Score'], bins=20)\n",
    "plt.xlabel('Feature Importance')\n",
    "plt.ylabel('Count')\n",
    "plt.title('RF Feature Importances')\n",
    "\n",
    "# Calculate and plot the mean, median, and standard deviation of feature importances\n",
    "mean_score_rf = np.mean(rfe_importances['Score'])\n",
    "median_score_rf = np.median(rfe_importances['Score'])\n",
    "std_score_rf = np.std(rfe_importances['Score'])\n",
    "plt.axvline(x=mean_score_rf, color='r', linestyle='dashed', linewidth=2, label='Mean')\n",
    "plt.axvline(x=median_score_rf, color='g', linestyle='dashed', linewidth=2, label='Median')\n",
    "plt.axvline(x=std_score_rf, color='y', linestyle='dashed', linewidth=2, label='Std Dev')\n",
    "\n",
    "# Calculate and plot quartiles\n",
    "quartiles = np.quantile(rfe_importances['Score'], [0, 0.25, 0.5, 0.75, 1])\n",
    "plt.axvline(quartiles[1], color='b', linestyle='dashed', linewidth=2, label='Q1')\n",
    "plt.axvline(quartiles[2], color='purple', linestyle='dashed', linewidth=2, label='Q2')\n",
    "plt.axvline(quartiles[3], color='magenta', linestyle='dashed', linewidth=2, label='Q3')\n",
    "\n",
    "# Show legend\n",
    "plt.legend()\n",
    "\n",
    "# Show the plot\n",
    "plt.show()\n",
    "\n"
   ]
  },
  {
   "cell_type": "code",
   "execution_count": 12,
   "metadata": {
    "scrolled": true
   },
   "outputs": [],
   "source": [
    "# Count and percentage of features above the mean\n",
    "above_mean = rfe_importances[rfe_importances['Score'] > mean_score_rf]\n",
    "num_above_mean = len(above_mean)\n",
    "percent_above_mean = num_above_mean / len(rfe_importances) * 100\n",
    "\n",
    "print(f\"Number of features above mean: {num_above_mean} ({percent_above_mean:.2f}%)\")\n",
    "print(\"Features above mean:\", above_mean['Variable'].tolist())\n",
    "\n",
    "# Count and percentage of features below the mean\n",
    "below_mean = rfe_importances[rfe_importances['Score'] < mean_score_rf]\n",
    "num_below_mean = len(below_mean)\n",
    "percent_below_mean = num_below_mean / len(rfe_importances) * 100\n",
    "\n",
    "print(f\"Number of features below mean: {num_below_mean} ({percent_below_mean:.2f}%)\")\n",
    "print(\"Features below mean:\", below_mean['Variable'].tolist())\n"
   ]
  },
  {
   "cell_type": "code",
   "execution_count": 41,
   "metadata": {},
   "outputs": [],
   "source": [
    "above_median_RandomForest=df_rankings5[df_rankings5[\"Score\"]>=df_rankings5[\"Score\"].median()].sort_values(by='Score', ascending=False)"
   ]
  },
  {
   "cell_type": "code",
   "execution_count": 13,
   "metadata": {
    "scrolled": true
   },
   "outputs": [],
   "source": [
    "above_mean_rf= df_rankings5[df_rankings5[\"Score\"]>=df_rankings5[\"Score\"].mean()].sort_values(by='Score', ascending=False)"
   ]
  },
  {
   "cell_type": "code",
   "execution_count": 42,
   "metadata": {},
   "outputs": [],
   "source": [
    "df_rankings5 = df_rankings5.rename(columns={'Score': 'Score_RF'})\n"
   ]
  },
  {
   "cell_type": "markdown",
   "metadata": {},
   "source": [
    "## Genetic"
   ]
  },
  {
   "cell_type": "code",
   "execution_count": 14,
   "metadata": {
    "scrolled": true
   },
   "outputs": [],
   "source": [
    "import pandas as pd\n",
    "from sklearn.tree import DecisionTreeRegressor\n",
    "from sklearn.ensemble import RandomForestRegressor\n",
    "from sklearn.model_selection import train_test_split\n",
    "from genetic_selection import GeneticSelectionCV\n",
    "\n",
    "\n",
    "# Define the estimator and the genetic feature selection algorithm\n",
    "estimator = RandomForestRegressor(n_estimators=100, random_state=42)\n",
    "selector = GeneticSelectionCV(\n",
    "    estimator,\n",
    "    cv=5,\n",
    "    verbose=1,\n",
    "    scoring=\"neg_mean_squared_error\",\n",
    "    max_features= 90,\n",
    "    n_population=100,\n",
    "    crossover_proba=0.5,\n",
    "    mutation_proba=0.2,\n",
    "    n_generations=50,\n",
    "    crossover_independent_proba=0.5,\n",
    "    mutation_independent_proba=0.04,\n",
    "    tournament_size=3,\n",
    "    n_gen_no_change=10,\n",
    "    caching=True,\n",
    "    n_jobs=-1\n",
    ")\n",
    "\n",
    "# Fit the genetic feature selection algorithm on the training data\n",
    "selector = selector.fit(X_train, y_train)\n",
    "\n",
    "# Print the selected features\n",
    "selected_features = X.columns[selector.support_]\n",
    "print('Selected Features:', selected_features)\n",
    "\n",
    "# Calculate the important scores for each feature\n",
    "importances = selector.estimator_.feature_importances_\n",
    "df_importances = pd.DataFrame({'Feature': X.columns, 'Score_genf': importances})\n",
    "\n",
    "# Calculate the mean, median, standard deviation, minimum, and maximum importance score for each feature\n",
    "mean_score = df_importances['Score_genf'].mean()\n",
    "median_score = df_importances['Score_genf'].median()\n",
    "std_score = df_importances['Score_genf'].std()\n",
    "min_score = df_importances['Score_genf'].min()\n",
    "max_score = df_importances['Score_genf'].max()\n",
    "\n",
    "# Print the statistics for important scores\n",
    "print(f\"Mean importance score: {mean_score}\")\n",
    "print(f\"Median importance score: {median_score}\")\n",
    "print(f\"Standard deviation of importance score: {std_score}\")\n",
    "print(f\"Minimum importance score: {min_score}\")\n",
    "print(f\"Maximum importance score: {max_score}\")\n",
    "\n",
    "# Rank the features based on their mean importance score in descending order\n",
    "df_rankings6 = df_importances6.sort_values(by='Score_genf', ascending=False)\n",
    "print(df_rankings6)\n"
   ]
  },
  {
   "cell_type": "code",
   "execution_count": null,
   "metadata": {},
   "outputs": [],
   "source": [
    "\n",
    "estimator = DecisionTreeClassifier()\n",
    "model = GeneticSelectionCV(estimator, cv = 5, verbose = 0, scoring  = \"accuracy\", max_features = 90,\n",
    "                           n_population = 100, crossover_proba = 0.5, mutation_proba = 0.2, n_generations = 50,\n",
    "                           crossover_independent_proba = 0.5, mutation_independent_proba = 0.04,\n",
    "                           tournament_size = 3, n_gen_no_change = 20, caching = True, n_jobs = -1)\n",
    "gen_support = model.fit(X_train, y_train)\n",
    "# Print the selected features\n",
    "selected_features = X.columns[selector.support_]\n",
    "print('Selected Features:', selected_features)\n"
   ]
  },
  {
   "cell_type": "code",
   "execution_count": 93,
   "metadata": {},
   "outputs": [],
   "source": [
    "#merged_table = df_rankings.merge(df_rankings1, on='Variable').merge(df_rankings3, on='Variable').merge(df_rankings4, on='Variable').merge(df_rankings5, on='Variable')\n"
   ]
  },
  {
   "cell_type": "markdown",
   "metadata": {},
   "source": [
    "# Select features based on median "
   ]
  },
  {
   "cell_type": "code",
   "execution_count": 45,
   "metadata": {},
   "outputs": [],
   "source": [
    "cols=df.columns.tolist()\n",
    "col=['Variable']\n",
    "all_col= pd.DataFrame(cols, columns= col)"
   ]
  },
  {
   "cell_type": "code",
   "execution_count": 51,
   "metadata": {},
   "outputs": [],
   "source": [
    "merged_table_median =all_col.merge(above_median_chi, on = 'Variable', how= 'left').merge(above_median_rfe, on='Variable', how='left').merge(above_median_lasso, on='Variable', how='left').merge(above_median_RandomForest, on='Variable', how='left')\n"
   ]
  },
  {
   "cell_type": "code",
   "execution_count": 52,
   "metadata": {},
   "outputs": [],
   "source": [
    "merged_table_median.iloc[:,1:]=merged_table_median.iloc[:,1:].notna().astype('int')\n"
   ]
  },
  {
   "cell_type": "code",
   "execution_count": 53,
   "metadata": {},
   "outputs": [],
   "source": [
    "#merged_table_median\n",
    "merged_table_median['Total']=np.sum(merged_table_median, axis=1)\n"
   ]
  },
  {
   "cell_type": "code",
   "execution_count": 15,
   "metadata": {},
   "outputs": [],
   "source": [
    "merged_table_median=merged_table_median.sort_values(by='Total', ascending= False)"
   ]
  },
  {
   "cell_type": "code",
   "execution_count": 56,
   "metadata": {},
   "outputs": [],
   "source": [
    "#by referring to the excel sheet of results we find 34 features were selected by at least 3/4 classifiers\n",
    "#thus we select and store those top 50 in selected_features_az_top\n",
    "selected_features_az_top=list(merged_table_median['Variable'][:34])\n"
   ]
  },
  {
   "cell_type": "code",
   "execution_count": 112,
   "metadata": {},
   "outputs": [],
   "source": [
    "# Add demographic features to selected features\n",
    "demographics=[ 'FEMALE', 'ZIPINC_QRTL', 'AGE']\n",
    "selected_features_az_top.extend(demographics)"
   ]
  }
 ],
 "metadata": {
  "accelerator": "TPU",
  "colab": {
   "collapsed_sections": [
    "hMHtE0PxAyXE",
    "ACTNFtPi5yKH",
    "5LD65z0I5fNw",
    "op4EvitAA_D9",
    "_U1TQKT-BF4P",
    "e0MO1K1tBWG6",
    "wDNLbj1mBhqN",
    "4Z1HemiVBrOa",
    "T4RxDF_7BzG2",
    "mwt5JqtWB_NT",
    "TCC5qO0FCFvD",
    "PB79G4M0CPKB",
    "FY6qE2tdD765",
    "Ub_z8SkiCbjW",
    "tmJfZRwdC3_C",
    "iKDxNTcHEKIa",
    "jRhUisw7Es5R",
    "MBn7T6e-HhOV"
   ],
   "provenance": []
  },
  "gpuClass": "standard",
  "kernelspec": {
   "display_name": "Python 3 (ipykernel)",
   "language": "python",
   "name": "python3"
  },
  "language_info": {
   "codemirror_mode": {
    "name": "ipython",
    "version": 3
   },
   "file_extension": ".py",
   "mimetype": "text/x-python",
   "name": "python",
   "nbconvert_exporter": "python",
   "pygments_lexer": "ipython3",
   "version": "3.9.13"
  }
 },
 "nbformat": 4,
 "nbformat_minor": 1
}
